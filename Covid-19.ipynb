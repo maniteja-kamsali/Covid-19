{
 "cells": [
  {
   "cell_type": "code",
   "execution_count": 2,
   "metadata": {},
   "outputs": [
    {
     "name": "stdout",
     "output_type": "stream",
     "text": [
      "Collecting covid\n",
      "  Downloading https://files.pythonhosted.org/packages/0d/21/263405c8ae7a5a97a50336895c21da547ed8ad9c56a03cd293f493e553a4/covid-1.4.1.tar.gz\n",
      "  Installing build dependencies: started\n",
      "  Installing build dependencies: finished with status 'done'\n",
      "  Getting requirements to build wheel: started\n",
      "  Getting requirements to build wheel: finished with status 'done'\n",
      "    Preparing wheel metadata: started\n",
      "    Preparing wheel metadata: finished with status 'done'\n",
      "Requirement already satisfied: requests in c:\\users\\mani\\anaconda3\\lib\\site-packages (from covid) (2.22.0)\n",
      "Collecting pydantic (from covid)\n",
      "  Downloading https://files.pythonhosted.org/packages/b3/9c/70926fbac2c2ff1d8ca8f3ade0918b1ae4ec956cff961ed0ed9eb8398ab3/pydantic-1.4-py36.py37.py38-none-any.whl (88kB)\n",
      "Requirement already satisfied: certifi>=2017.4.17 in c:\\users\\mani\\anaconda3\\lib\\site-packages (from requests->covid) (2019.11.28)\n",
      "Requirement already satisfied: chardet<3.1.0,>=3.0.2 in c:\\users\\mani\\anaconda3\\lib\\site-packages (from requests->covid) (3.0.4)\n",
      "Requirement already satisfied: urllib3!=1.25.0,!=1.25.1,<1.26,>=1.21.1 in c:\\users\\mani\\anaconda3\\lib\\site-packages (from requests->covid) (1.24.2)\n",
      "Requirement already satisfied: idna<2.9,>=2.5 in c:\\users\\mani\\anaconda3\\lib\\site-packages (from requests->covid) (2.8)\n",
      "Building wheels for collected packages: covid\n",
      "  Building wheel for covid (PEP 517): started\n",
      "  Building wheel for covid (PEP 517): finished with status 'done'\n",
      "  Stored in directory: C:\\Users\\MANI\\AppData\\Local\\pip\\Cache\\wheels\\41\\60\\62\\63d3cfae9b2ba93ca5606ce88116cc3c7bec6690ae728af220\n",
      "Successfully built covid\n",
      "Installing collected packages: pydantic, covid\n",
      "Successfully installed covid-1.4.1 pydantic-1.4\n",
      "Note: you may need to restart the kernel to use updated packages.\n"
     ]
    }
   ],
   "source": [
    "pip install covid"
   ]
  },
  {
   "cell_type": "code",
   "execution_count": 4,
   "metadata": {},
   "outputs": [],
   "source": [
    "from covid import Covid\n",
    "\n",
    "covid = Covid()\n",
    "df=covid.get_data()"
   ]
  },
  {
   "cell_type": "code",
   "execution_count": 15,
   "metadata": {},
   "outputs": [],
   "source": [
    "import seaborn as sns\n",
    "import matplotlib.pyplot as plt"
   ]
  },
  {
   "cell_type": "code",
   "execution_count": 6,
   "metadata": {},
   "outputs": [],
   "source": [
    "import pandas as pd"
   ]
  },
  {
   "cell_type": "code",
   "execution_count": 8,
   "metadata": {},
   "outputs": [],
   "source": [
    "df = pd.DataFrame(df)"
   ]
  },
  {
   "cell_type": "code",
   "execution_count": 46,
   "metadata": {},
   "outputs": [
    {
     "data": {
      "text/html": [
       "<div>\n",
       "<style scoped>\n",
       "    .dataframe tbody tr th:only-of-type {\n",
       "        vertical-align: middle;\n",
       "    }\n",
       "\n",
       "    .dataframe tbody tr th {\n",
       "        vertical-align: top;\n",
       "    }\n",
       "\n",
       "    .dataframe thead th {\n",
       "        text-align: right;\n",
       "    }\n",
       "</style>\n",
       "<table border=\"1\" class=\"dataframe\">\n",
       "  <thead>\n",
       "    <tr style=\"text-align: right;\">\n",
       "      <th></th>\n",
       "      <th>active</th>\n",
       "      <th>confirmed</th>\n",
       "      <th>country</th>\n",
       "      <th>deaths</th>\n",
       "      <th>id</th>\n",
       "      <th>last_update</th>\n",
       "      <th>latitude</th>\n",
       "      <th>longitude</th>\n",
       "      <th>recovered</th>\n",
       "      <th>mortality-rate</th>\n",
       "    </tr>\n",
       "  </thead>\n",
       "  <tbody>\n",
       "    <tr>\n",
       "      <th>0</th>\n",
       "      <td>5770</td>\n",
       "      <td>81397</td>\n",
       "      <td>China</td>\n",
       "      <td>3265</td>\n",
       "      <td>58</td>\n",
       "      <td>1584097775000</td>\n",
       "      <td>30.5928</td>\n",
       "      <td>114.3055</td>\n",
       "      <td>72362</td>\n",
       "      <td>4.011204</td>\n",
       "    </tr>\n",
       "    <tr>\n",
       "      <th>1</th>\n",
       "      <td>42681</td>\n",
       "      <td>53578</td>\n",
       "      <td>Italy</td>\n",
       "      <td>4825</td>\n",
       "      <td>130</td>\n",
       "      <td>1584812583000</td>\n",
       "      <td>41.8719</td>\n",
       "      <td>12.5674</td>\n",
       "      <td>6072</td>\n",
       "      <td>9.005562</td>\n",
       "    </tr>\n",
       "    <tr>\n",
       "      <th>2</th>\n",
       "      <td>24727</td>\n",
       "      <td>28572</td>\n",
       "      <td>Spain</td>\n",
       "      <td>1720</td>\n",
       "      <td>17</td>\n",
       "      <td>1584877383000</td>\n",
       "      <td>40.4637</td>\n",
       "      <td>-3.7492</td>\n",
       "      <td>2125</td>\n",
       "      <td>6.019880</td>\n",
       "    </tr>\n",
       "    <tr>\n",
       "      <th>3</th>\n",
       "      <td>26481</td>\n",
       "      <td>27004</td>\n",
       "      <td>US</td>\n",
       "      <td>347</td>\n",
       "      <td>78</td>\n",
       "      <td>1584891786000</td>\n",
       "      <td>40.0000</td>\n",
       "      <td>-100.0000</td>\n",
       "      <td>176</td>\n",
       "      <td>1.284995</td>\n",
       "    </tr>\n",
       "    <tr>\n",
       "      <th>4</th>\n",
       "      <td>23563</td>\n",
       "      <td>23921</td>\n",
       "      <td>Germany</td>\n",
       "      <td>92</td>\n",
       "      <td>16</td>\n",
       "      <td>1584886386000</td>\n",
       "      <td>51.1657</td>\n",
       "      <td>10.4515</td>\n",
       "      <td>266</td>\n",
       "      <td>0.384599</td>\n",
       "    </tr>\n",
       "  </tbody>\n",
       "</table>\n",
       "</div>"
      ],
      "text/plain": [
       "   active  confirmed  country  deaths   id    last_update  latitude  \\\n",
       "0    5770      81397    China    3265   58  1584097775000   30.5928   \n",
       "1   42681      53578    Italy    4825  130  1584812583000   41.8719   \n",
       "2   24727      28572    Spain    1720   17  1584877383000   40.4637   \n",
       "3   26481      27004       US     347   78  1584891786000   40.0000   \n",
       "4   23563      23921  Germany      92   16  1584886386000   51.1657   \n",
       "\n",
       "   longitude  recovered  mortality-rate  \n",
       "0   114.3055      72362        4.011204  \n",
       "1    12.5674       6072        9.005562  \n",
       "2    -3.7492       2125        6.019880  \n",
       "3  -100.0000        176        1.284995  \n",
       "4    10.4515        266        0.384599  "
      ]
     },
     "execution_count": 46,
     "metadata": {},
     "output_type": "execute_result"
    }
   ],
   "source": [
    "df = df.sort_values(by ='confirmed',ascending=False)\n",
    "df.head()"
   ]
  },
  {
   "cell_type": "markdown",
   "metadata": {},
   "source": [
    "# Confirmed Cases"
   ]
  },
  {
   "cell_type": "code",
   "execution_count": 20,
   "metadata": {},
   "outputs": [
    {
     "data": {
      "image/png": "[encoded data removed]",
      "text/plain": [
       "<Figure size 432x288 with 1 Axes>"
      ]
     },
     "metadata": {
      "needs_background": "light"
     },
     "output_type": "display_data"
    }
   ],
   "source": [
    "plt.figure()\n",
    "ax = sns.barplot(y=\"country\", x=\"confirmed\", data=df[:4])"
   ]
  },
  {
   "cell_type": "markdown",
   "metadata": {},
   "source": [
    "# Death cases"
   ]
  },
  {
   "cell_type": "code",
   "execution_count": 47,
   "metadata": {},
   "outputs": [
    {
     "data": {
      "image/png": "[encoded data removed]",
      "text/plain": [
       "<Figure size 432x288 with 1 Axes>"
      ]
     },
     "metadata": {
      "needs_background": "light"
     },
     "output_type": "display_data"
    }
   ],
   "source": [
    "plt.figure()\n",
    "ax = sns.barplot(y=\"country\", x=\"deaths\", data=df.loc[(df.country=='China') | (df.country=='Italy') | (df.country=='US')])"
   ]
  },
  {
   "cell_type": "code",
   "execution_count": 50,
   "metadata": {},
   "outputs": [
    {
     "data": {
      "image/png": "[encoded data removed]",
      "text/plain": [
       "<Figure size 432x288 with 1 Axes>"
      ]
     },
     "metadata": {
      "needs_background": "light"
     },
     "output_type": "display_data"
    }
   ],
   "source": [
    "plt.figure()\n",
    "ax = sns.barplot(y=\"mortality-rate\", x=\"country\", data=df[:5])"
   ]
  },
  {
   "cell_type": "markdown",
   "metadata": {},
   "source": [
    "# Recovered"
   ]
  },
  {
   "cell_type": "code",
   "execution_count": 52,
   "metadata": {},
   "outputs": [
    {
     "data": {
      "image/png": "[encoded data removed]",
      "text/plain": [
       "<Figure size 432x288 with 1 Axes>"
      ]
     },
     "metadata": {
      "needs_background": "light"
     },
     "output_type": "display_data"
    }
   ],
   "source": [
    "plt.figure()\n",
    "ax = sns.barplot(y=\"recovered\", x=\"country\", data=df[:5])"
   ]
  }
 ],
 "metadata": {
  "kernelspec": {
   "display_name": "Python 3",
   "language": "python",
   "name": "python3"
  },
  "language_info": {
   "codemirror_mode": {
    "name": "ipython",
    "version": 3
   },
   "file_extension": ".py",
   "mimetype": "text/x-python",
   "name": "python",
   "nbconvert_exporter": "python",
   "pygments_lexer": "ipython3",
   "version": "3.7.3"
  }
 },
 "nbformat": 4,
 "nbformat_minor": 2
}
